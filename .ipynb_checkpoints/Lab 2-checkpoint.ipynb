{
 "cells": [
  {
   "cell_type": "code",
   "execution_count": 1,
   "metadata": {},
   "outputs": [],
   "source": [
    "import pandas as pd"
   ]
  },
  {
   "cell_type": "code",
   "execution_count": 2,
   "metadata": {},
   "outputs": [],
   "source": [
    "ds1 = pd.read_csv(\"./Datasets/Sports.csv\")\n",
    "ds2 = pd.read_csv(\"./Datasets/Mushroom.csv\")\n",
    "ds3 = pd.read_csv(\"./Datasets/D3.csv\")"
   ]
  },
  {
   "cell_type": "code",
   "execution_count": 2,
   "metadata": {},
   "outputs": [],
   "source": [
    "import csv"
   ]
  },
  {
   "cell_type": "code",
   "execution_count": 3,
   "metadata": {},
   "outputs": [],
   "source": [
    "ds1 = csv.reader('')"
   ]
  },
  {
   "cell_type": "code",
   "execution_count": 4,
   "metadata": {},
   "outputs": [],
   "source": [
    "dataset = list()\n",
    "with open('./Datasets/Sports.csv','rt')as f:\n",
    "    data = csv.reader(f)\n",
    "    head = 1\n",
    "    for row in data:\n",
    "        if(head):\n",
    "            head = 0\n",
    "            continue\n",
    "        dataset.append(row)"
   ]
  },
  {
   "cell_type": "code",
   "execution_count": 32,
   "metadata": {},
   "outputs": [
    {
     "name": "stdout",
     "output_type": "stream",
     "text": [
      "[['Sunny', 'Warm', 'Normal', 'Strong', 'Warm', 'Same', 'Yes'], ['Sunny', 'Warm', 'High', 'Strong', 'Warm', 'Same', 'Yes'], ['Rainy', 'Cold', 'High', 'Strong', 'Warm', 'Change', 'No'], ['Sunny', 'Warm', 'High', 'Strong', 'Cool', 'Change', 'Yes']]\n"
     ]
    }
   ],
   "source": [
    "print(dataset)"
   ]
  },
  {
   "cell_type": "code",
   "execution_count": 29,
   "metadata": {},
   "outputs": [],
   "source": [
    "h = ['0','0','0','0','0','0']\n",
    "for row in dataset:\n",
    "    for i in range (0, len(row) - 1):\n",
    "        if(row[-1] == 'Yes'):\n",
    "            if h[i] == row[i]:\n",
    "                continue\n",
    "            if h[i] == '0':\n",
    "                h[i] = row[i]\n",
    "            else:\n",
    "                h[i] = '?'"
   ]
  },
  {
   "cell_type": "code",
   "execution_count": 31,
   "metadata": {},
   "outputs": [
    {
     "name": "stdout",
     "output_type": "stream",
     "text": [
      "Most specific hypothesis :  ['Sunny', 'Warm', '?', 'Strong', '?', '?']\n"
     ]
    }
   ],
   "source": [
    "print(\"Most specific hypothesis : \",h)"
   ]
  },
  {
   "cell_type": "code",
   "execution_count": null,
   "metadata": {},
   "outputs": [],
   "source": []
  },
  {
   "cell_type": "code",
   "execution_count": 42,
   "metadata": {},
   "outputs": [],
   "source": [
    "dataset1 = list()\n",
    "fhand = open('./Datasets/Mushroom.csv')\n",
    "data = csv.reader(fhand)\n",
    "head = 1\n",
    "for row in data:\n",
    "    if(head):\n",
    "        head = 0\n",
    "        continue\n",
    "    dataset1.append(row)"
   ]
  },
  {
   "cell_type": "code",
   "execution_count": 43,
   "metadata": {},
   "outputs": [
    {
     "name": "stdout",
     "output_type": "stream",
     "text": [
      "[['Red', 'Small', 'Round', 'Humid', 'Low', 'Smooth', 'Poisonous'], ['Red', 'Small', 'Elongated', 'Humid', 'Low', 'Smooth', 'Poisonous'], ['Grey', 'Large', 'Elongated', 'Humid', 'Low', 'Rough', 'Non-poisonous'], ['Red', 'Small', 'Elongated', 'Humid', 'High', 'Rough', 'Poisonous']]\n"
     ]
    }
   ],
   "source": [
    "print(dataset1)"
   ]
  },
  {
   "cell_type": "code",
   "execution_count": 65,
   "metadata": {},
   "outputs": [
    {
     "name": "stdout",
     "output_type": "stream",
     "text": [
      "['Red', 'Small', 'Round', 'Humid', 'Low', 'Smooth']\n",
      "['Red', 'Small', '?', 'Humid', 'Low', 'Smooth']\n",
      "['Red', 'Small', '?', 'Humid', 'Low', 'Smooth']\n",
      "['Red', 'Small', '?', 'Humid', '?', '?']\n"
     ]
    }
   ],
   "source": [
    "h = ['0','0','0','0','0','0']\n",
    "H = list()\n",
    "H.append(h)\n",
    "for row in dataset1:\n",
    "    for i in range (0, len(row) - 1):\n",
    "        if(row[-1] == 'Poisonous'):\n",
    "            if h[i] == row[i]:\n",
    "                continue\n",
    "            if h[i] == '0':\n",
    "                h[i] = row[i]\n",
    "            else:\n",
    "                h[i] = '?'\n",
    "    print(h)"
   ]
  },
  {
   "cell_type": "code",
   "execution_count": 66,
   "metadata": {},
   "outputs": [
    {
     "name": "stdout",
     "output_type": "stream",
     "text": [
      "Most specific hypothesis :  ['Red', 'Small', '?', 'Humid', '?', '?']\n"
     ]
    }
   ],
   "source": [
    "print(\"Most specific hypothesis : \",h)"
   ]
  },
  {
   "cell_type": "code",
   "execution_count": 68,
   "metadata": {},
   "outputs": [
    {
     "data": {
      "text/plain": [
       "[['No', 'Sunny', 'Hot', 'High', 'Weak'],\n",
       " ['No', 'Sunny', 'Hot', 'High', 'Strong'],\n",
       " ['Yes', 'Overcast', 'Hot', 'High', 'Weak'],\n",
       " ['Yes', 'Rain', 'Mild', 'High', 'Weak'],\n",
       " ['Yes', 'Rain', 'Cool', 'Normal', 'Weak'],\n",
       " ['No', 'Rain', 'Cool', 'Normal', 'Strong'],\n",
       " ['Yes', 'Overcast', 'Cool', 'Normal', 'Strong'],\n",
       " ['No', 'Sunny', 'Mild', 'High', 'Weak'],\n",
       " ['Yes', 'Sunny', 'Cool', 'Normal', 'Weak'],\n",
       " ['Yes', 'Rain', 'Mild', 'Normal', 'Weak'],\n",
       " ['Yes', 'Sunny', 'Mild', 'Normal', 'Strong'],\n",
       " ['Yes', 'Overcast', 'Mild', 'High', 'Strong'],\n",
       " ['Yes', 'Overcast', 'Hot', 'Normal', 'Weak'],\n",
       " ['No', 'Rain', 'Mild', 'High', 'Strong']]"
      ]
     },
     "execution_count": 68,
     "metadata": {},
     "output_type": "execute_result"
    }
   ],
   "source": [
    "dataset3 = list()\n",
    "fhand = open('../Dataset/PlayTennis.csv')\n",
    "data = csv.reader(fhand)\n",
    "for row in data:\n",
    "    #print(row)\n",
    "    del row[0]\n",
    "    dataset3.append(row)\n",
    "    \n",
    "del dataset3[0]\n",
    "\n",
    "dataset3"
   ]
  },
  {
   "cell_type": "code",
   "execution_count": 72,
   "metadata": {},
   "outputs": [
    {
     "name": "stdout",
     "output_type": "stream",
     "text": [
      "[['0', '0', '0', '0'], ['0', '0', '0', '0']]\n",
      "[['0', '0', '0', '0'], ['0', '0', '0', '0']]\n",
      "[['Overcast', 'Hot', 'High', 'Weak'], ['0', '0', '0', '0']]\n",
      "[['Overcast', 'Hot', 'High', 'Weak'], ['Rain', 'Mild', '0', '0']]\n",
      "[['Overcast', '?', 'High', 'Weak'], ['Rain', '?', 'Normal', '0']]\n",
      "[['Overcast', '?', 'High', 'Weak'], ['Rain', '?', 'Normal', '0']]\n",
      "[['Overcast', '?', 'High', 'Weak'], ['Rain', '?', 'Normal', 'Strong']]\n",
      "[['Overcast', '?', 'High', 'Weak'], ['Rain', '?', 'Normal', 'Strong']]\n",
      "[['?', '?', 'High', 'Weak'], ['?', '?', 'Normal', 'Strong']]\n",
      "[['?', '?', 'High', 'Weak'], ['?', '?', 'Normal', 'Strong']]\n",
      "[['?', '?', 'High', 'Weak'], ['?', '?', 'Normal', 'Strong']]\n",
      "[['?', '?', 'High', 'Weak'], ['?', '?', 'Normal', 'Strong']]\n",
      "[['?', '?', 'High', 'Weak'], ['?', '?', 'Normal', 'Strong']]\n",
      "[['?', '?', 'High', 'Weak'], ['?', '?', 'Normal', 'Strong']]\n"
     ]
    }
   ],
   "source": [
    "h = [['0','0','0','0'],['0','0','0','0']]\n",
    "for row in dataset3:\n",
    "    for i in range (1, len(row)):\n",
    "        if(row[0] == 'Yes'):\n",
    "            if h[0][i-1] == row[i] or h[1][i-1] == row[i]:\n",
    "                continue\n",
    "            if h[0][i-1] == '0':\n",
    "                h[0][i-1] = row[i]\n",
    "            elif h[1][i-1] == '0':\n",
    "                h[1][i-1] = row[i]\n",
    "            else:\n",
    "                h[0][i-1] = h[1][i-1] = '?'\n",
    "            \n",
    "    print(h)"
   ]
  },
  {
   "cell_type": "code",
   "execution_count": null,
   "metadata": {},
   "outputs": [],
   "source": []
  },
  {
   "cell_type": "code",
   "execution_count": 5,
   "metadata": {},
   "outputs": [
    {
     "data": {
      "text/plain": [
       "[['Sunny', 'Warm', 'Normal', 'Strong', 'Warm', 'Same', 'Yes'],\n",
       " ['Sunny', 'Warm', 'High', 'Strong', 'Warm', 'Same', 'Yes'],\n",
       " ['Rainy', 'Cold', 'High', 'Strong', 'Warm', 'Change', 'No'],\n",
       " ['Sunny', 'Warm', 'High', 'Strong', 'Cool', 'Change', 'Yes']]"
      ]
     },
     "execution_count": 5,
     "metadata": {},
     "output_type": "execute_result"
    }
   ],
   "source": [
    "dataset"
   ]
  },
  {
   "cell_type": "code",
   "execution_count": null,
   "metadata": {},
   "outputs": [],
   "source": []
  },
  {
   "cell_type": "code",
   "execution_count": null,
   "metadata": {},
   "outputs": [],
   "source": []
  },
  {
   "cell_type": "code",
   "execution_count": null,
   "metadata": {},
   "outputs": [],
   "source": []
  },
  {
   "cell_type": "code",
   "execution_count": null,
   "metadata": {},
   "outputs": [],
   "source": [
    "s ="
   ]
  }
 ],
 "metadata": {
  "kernelspec": {
   "display_name": "Python 3",
   "language": "python",
   "name": "python3"
  },
  "language_info": {
   "codemirror_mode": {
    "name": "ipython",
    "version": 3
   },
   "file_extension": ".py",
   "mimetype": "text/x-python",
   "name": "python",
   "nbconvert_exporter": "python",
   "pygments_lexer": "ipython3",
   "version": "3.7.1"
  }
 },
 "nbformat": 4,
 "nbformat_minor": 2
}
