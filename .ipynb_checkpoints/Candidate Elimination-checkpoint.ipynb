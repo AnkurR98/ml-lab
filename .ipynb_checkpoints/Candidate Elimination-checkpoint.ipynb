{
 "cells": [
  {
   "cell_type": "code",
   "execution_count": 91,
   "metadata": {},
   "outputs": [
    {
     "data": {
      "text/plain": [
       "[['Sky', 'Temperature', 'Humidity', 'Wind', 'Water', 'Forecast', 'EnjoySport'],\n",
       " ['Sunny', 'Warm', 'Normal', 'Strong', 'Warm', 'Same', 'Yes'],\n",
       " ['Sunny', 'Warm', 'High', 'Strong', 'Warm', 'Same', 'Yes'],\n",
       " ['Rainy', 'Cold', 'High', 'Strong', 'Warm', 'Change', 'No'],\n",
       " ['Sunny', 'Warm', 'High', 'Strong', 'Cool', 'Change', 'Yes']]"
      ]
     },
     "execution_count": 91,
     "metadata": {},
     "output_type": "execute_result"
    }
   ],
   "source": [
    "import csv\n",
    "dataset = list()\n",
    "with open('./Datasets/Sports.csv','rt')as f:\n",
    "    data = csv.reader(f)\n",
    "    head = 1\n",
    "    for row in data:\n",
    "        dataset.append(row)\n",
    "        \n",
    "k = 0\n",
    "for row in dataset[1:]:\n",
    "    if row[-1] == 'Yes':\n",
    "        break\n",
    "    k += 1\n",
    "\n",
    "dataset = dataset[k:] + dataset[:k]\n",
    "dataset"
   ]
  },
  {
   "cell_type": "code",
   "execution_count": 92,
   "metadata": {},
   "outputs": [],
   "source": [
    "s = list()\n",
    "GHyp = list()\n",
    "g = dict()\n",
    "for head in dataset[0][:-1]:\n",
    "    g[head] = '?';\n",
    "    s.append('0')\n",
    "    \n",
    "for row in dataset[1:]:\n",
    "    if(row[-1] == 'Yes'):\n",
    "        for i in range (0, len(row) - 1):\n",
    "            if s[i] == row[i]:\n",
    "                continue\n",
    "            if s[i] == '0':\n",
    "                s[i] = row[i]\n",
    "            else:\n",
    "                s[i] = '?'\n",
    "                if len(GHyp) > 0:\n",
    "                    for dictionary in range(0, len(GHyp)):\n",
    "                        if GHyp[dictionary][dataset[0][i]] != '?':\n",
    "                            #print('Extra hypothesis')\n",
    "                            del GHyp[dictionary]\n",
    "                \n",
    "    else:\n",
    "        for i in range (0, len(row) - 1):\n",
    "            if s[i] == '?' or s[i] == row[i]:\n",
    "                continue\n",
    "            temp = dict(g)\n",
    "            temp[dataset[0][i]] = s[i]\n",
    "            GHyp.append(temp)    "
   ]
  },
  {
   "cell_type": "code",
   "execution_count": 93,
   "metadata": {},
   "outputs": [
    {
     "name": "stdout",
     "output_type": "stream",
     "text": [
      "Set of hypotheses :  [['Sunny', 'Warm', '?', 'Strong', '?', '?'], ['Sunny', '?', '?', '?', '?', '?'], ['?', 'Warm', '?', '?', '?', '?']]\n"
     ]
    }
   ],
   "source": [
    "Hypotheses = list()\n",
    "Hypotheses.append(s[:])\n",
    "for dictionary in GHyp:\n",
    "    Hypotheses.append(list(dictionary.values()))\n",
    "    \n",
    "print('Set of hypotheses : ',Hypotheses)"
   ]
  },
  {
   "cell_type": "code",
   "execution_count": null,
   "metadata": {},
   "outputs": [],
   "source": []
  }
 ],
 "metadata": {
  "kernelspec": {
   "display_name": "Python 3",
   "language": "python",
   "name": "python3"
  },
  "language_info": {
   "codemirror_mode": {
    "name": "ipython",
    "version": 3
   },
   "file_extension": ".py",
   "mimetype": "text/x-python",
   "name": "python",
   "nbconvert_exporter": "python",
   "pygments_lexer": "ipython3",
   "version": "3.7.1"
  }
 },
 "nbformat": 4,
 "nbformat_minor": 2
}
