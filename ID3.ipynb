{
 "cells": [
  {
   "cell_type": "code",
   "execution_count": 125,
   "metadata": {},
   "outputs": [
    {
     "name": "stdout",
     "output_type": "stream",
     "text": [
      "5\n",
      "15\n"
     ]
    }
   ],
   "source": [
    "import csv\n",
    "import math\n",
    "\n",
    "datasets = []\n",
    "dataset = []\n",
    "with open('./Datasets/PlayTennis.csv','rt') as fhand:\n",
    "    data = csv.reader(fhand);\n",
    "    for row in data:\n",
    "        row = row[1:] + row[:1]\n",
    "        dataset.append(row)\n",
    "        \n",
    "#dataset = pd.read_csv('./Datasets/PlayTennis.csv')\n",
    "\n",
    "print(len(dataset[0]))\n",
    "datasets.append(dataset)\n",
    "print(len(datasets[0]))"
   ]
  },
  {
   "cell_type": "code",
   "execution_count": 118,
   "metadata": {},
   "outputs": [],
   "source": [
    "import pandas as pd"
   ]
  },
  {
   "cell_type": "code",
   "execution_count": 120,
   "metadata": {},
   "outputs": [
    {
     "data": {
      "text/plain": [
       "['No',\n",
       " 'No',\n",
       " 'Yes',\n",
       " 'Yes',\n",
       " 'Yes',\n",
       " 'No',\n",
       " 'Yes',\n",
       " 'No',\n",
       " 'Yes',\n",
       " 'Yes',\n",
       " 'Yes',\n",
       " 'Yes',\n",
       " 'Yes',\n",
       " 'No']"
      ]
     },
     "execution_count": 120,
     "metadata": {},
     "output_type": "execute_result"
    }
   ],
   "source": [
    "targets = list(pd.DataFrame(datasets[0][1:], columns=datasets[0][0])['PlayTennis'])\n",
    "#targets = list(datasets[0]['PlayTennis'])\n",
    "targets"
   ]
  },
  {
   "cell_type": "code",
   "execution_count": 121,
   "metadata": {},
   "outputs": [],
   "source": [
    "def calcEntropy(targets):\n",
    "    Ppos = targets.count('Yes')/len(targets)\n",
    "    #print(targets.count('Yes'), len(targets))\n",
    "    Pneg = (targets.count('No'))/len(targets)\n",
    "    Entropy = Ppos * math.log2(Ppos) + Pneg * math.log2(Pneg)\n",
    "    return -Entropy"
   ]
  },
  {
   "cell_type": "code",
   "execution_count": 122,
   "metadata": {},
   "outputs": [],
   "source": [
    "def calcInformationGain(nS, EntropyS, EntropySv):\n",
    "    '''Function expects EntropyS(int) and EntropySv(dictionary) based on values of the particular column\n",
    "    in the dataset, whether broken or not. EntropySv is of the form {'Label/Concept' : [|Sv|, Entropy(Sv)]}. '''\n",
    "        \n",
    "    #print(nS)\n",
    "    Entropy = 0\n",
    "    for entry in list(EntropySv.values()):\n",
    "        Entropy += ((entry[0] / nS) * entry[1])\n",
    "        \n",
    "    InfoGain = EntropyS - Entropy\n",
    "    return InfoGain"
   ]
  },
  {
   "cell_type": "code",
   "execution_count": 123,
   "metadata": {},
   "outputs": [],
   "source": [
    "EntropyDataset = round(calcEntropy(targets), 3)"
   ]
  },
  {
   "cell_type": "code",
   "execution_count": 126,
   "metadata": {},
   "outputs": [
    {
     "data": {
      "text/plain": [
       "0.247"
      ]
     },
     "execution_count": 126,
     "metadata": {},
     "output_type": "execute_result"
    }
   ],
   "source": [
    "id = calcInformationGain(len(datasets[0]) - 1, EntropyDataset, {'Sunny':[5, 0.970], 'Rain':(5, 0.970), 'Overcast':(4, 0)})\n",
    "round(id, 3)"
   ]
  },
  {
   "cell_type": "code",
   "execution_count": 128,
   "metadata": {},
   "outputs": [
    {
     "data": {
      "text/plain": [
       "4"
      ]
     },
     "execution_count": 128,
     "metadata": {},
     "output_type": "execute_result"
    }
   ],
   "source": [
    "nAttributes = len(datasets[0][0]) - 1\n",
    "nAttributes"
   ]
  },
  {
   "cell_type": "code",
   "execution_count": 130,
   "metadata": {},
   "outputs": [
    {
     "name": "stdout",
     "output_type": "stream",
     "text": [
      "['Sunny', 'Hot', 'High', 'Weak', 'No']\n",
      "['Sunny', 'Hot', 'High', 'Strong', 'No']\n",
      "['Overcast', 'Hot', 'High', 'Weak', 'Yes']\n",
      "['Rain', 'Mild', 'High', 'Weak', 'Yes']\n",
      "['Rain', 'Cool', 'Normal', 'Weak', 'Yes']\n",
      "['Rain', 'Cool', 'Normal', 'Strong', 'No']\n",
      "['Overcast', 'Cool', 'Normal', 'Strong', 'Yes']\n",
      "['Sunny', 'Mild', 'High', 'Weak', 'No']\n",
      "['Sunny', 'Cool', 'Normal', 'Weak', 'Yes']\n",
      "['Rain', 'Mild', 'Normal', 'Weak', 'Yes']\n",
      "['Sunny', 'Mild', 'Normal', 'Strong', 'Yes']\n",
      "['Overcast', 'Mild', 'High', 'Strong', 'Yes']\n",
      "['Overcast', 'Hot', 'Normal', 'Weak', 'Yes']\n",
      "['Rain', 'Mild', 'High', 'Strong', 'No']\n",
      "['Sunny', 'Hot', 'High', 'Weak', 'No']\n",
      "['Sunny', 'Hot', 'High', 'Strong', 'No']\n",
      "['Overcast', 'Hot', 'High', 'Weak', 'Yes']\n",
      "['Rain', 'Mild', 'High', 'Weak', 'Yes']\n",
      "['Rain', 'Cool', 'Normal', 'Weak', 'Yes']\n",
      "['Rain', 'Cool', 'Normal', 'Strong', 'No']\n",
      "['Overcast', 'Cool', 'Normal', 'Strong', 'Yes']\n",
      "['Sunny', 'Mild', 'High', 'Weak', 'No']\n",
      "['Sunny', 'Cool', 'Normal', 'Weak', 'Yes']\n",
      "['Rain', 'Mild', 'Normal', 'Weak', 'Yes']\n",
      "['Sunny', 'Mild', 'Normal', 'Strong', 'Yes']\n",
      "['Overcast', 'Mild', 'High', 'Strong', 'Yes']\n",
      "['Overcast', 'Hot', 'Normal', 'Weak', 'Yes']\n",
      "['Rain', 'Mild', 'High', 'Strong', 'No']\n",
      "['Sunny', 'Hot', 'High', 'Weak', 'No']\n",
      "['Sunny', 'Hot', 'High', 'Strong', 'No']\n",
      "['Overcast', 'Hot', 'High', 'Weak', 'Yes']\n",
      "['Rain', 'Mild', 'High', 'Weak', 'Yes']\n",
      "['Rain', 'Cool', 'Normal', 'Weak', 'Yes']\n",
      "['Rain', 'Cool', 'Normal', 'Strong', 'No']\n",
      "['Overcast', 'Cool', 'Normal', 'Strong', 'Yes']\n",
      "['Sunny', 'Mild', 'High', 'Weak', 'No']\n",
      "['Sunny', 'Cool', 'Normal', 'Weak', 'Yes']\n",
      "['Rain', 'Mild', 'Normal', 'Weak', 'Yes']\n",
      "['Sunny', 'Mild', 'Normal', 'Strong', 'Yes']\n",
      "['Overcast', 'Mild', 'High', 'Strong', 'Yes']\n",
      "['Overcast', 'Hot', 'Normal', 'Weak', 'Yes']\n",
      "['Rain', 'Mild', 'High', 'Strong', 'No']\n",
      "['Sunny', 'Hot', 'High', 'Weak', 'No']\n",
      "['Sunny', 'Hot', 'High', 'Strong', 'No']\n",
      "['Overcast', 'Hot', 'High', 'Weak', 'Yes']\n",
      "['Rain', 'Mild', 'High', 'Weak', 'Yes']\n",
      "['Rain', 'Cool', 'Normal', 'Weak', 'Yes']\n",
      "['Rain', 'Cool', 'Normal', 'Strong', 'No']\n",
      "['Overcast', 'Cool', 'Normal', 'Strong', 'Yes']\n",
      "['Sunny', 'Mild', 'High', 'Weak', 'No']\n",
      "['Sunny', 'Cool', 'Normal', 'Weak', 'Yes']\n",
      "['Rain', 'Mild', 'Normal', 'Weak', 'Yes']\n",
      "['Sunny', 'Mild', 'Normal', 'Strong', 'Yes']\n",
      "['Overcast', 'Mild', 'High', 'Strong', 'Yes']\n",
      "['Overcast', 'Hot', 'Normal', 'Weak', 'Yes']\n",
      "['Rain', 'Mild', 'High', 'Strong', 'No']\n"
     ]
    }
   ],
   "source": [
    "for i in range(nAttributes):\n",
    "    Elements = dict() #Elements = {'Label/Concept', [NPositives, NNegatives]}\n",
    "    for item in dataset[1:]:\n",
    "        print(item)\n",
    "        if item[0] not in Elements:\n",
    "            Elements[item[0]] = [0, 0]\n",
    "        "
   ]
  },
  {
   "cell_type": "code",
   "execution_count": null,
   "metadata": {},
   "outputs": [],
   "source": []
  }
 ],
 "metadata": {
  "kernelspec": {
   "display_name": "Python 3",
   "language": "python",
   "name": "python3"
  },
  "language_info": {
   "codemirror_mode": {
    "name": "ipython",
    "version": 3
   },
   "file_extension": ".py",
   "mimetype": "text/x-python",
   "name": "python",
   "nbconvert_exporter": "python",
   "pygments_lexer": "ipython3",
   "version": "3.6.5"
  }
 },
 "nbformat": 4,
 "nbformat_minor": 2
}
