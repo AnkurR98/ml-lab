{
 "cells": [
  {
   "cell_type": "code",
   "execution_count": 36,
   "metadata": {},
   "outputs": [
    {
     "data": {
      "text/plain": [
       "[['Sky', 'Temperature', 'Humidity', 'Wind', 'Water', 'Forecast', 'EnjoySport'],\n",
       " ['Sunny', 'Warm', 'Normal', 'Strong', 'Warm', 'Same', 'Yes'],\n",
       " ['Sunny', 'Warm', 'High', 'Strong', 'Warm', 'Same', 'Yes'],\n",
       " ['Rainy', 'Cold', 'High', 'Strong', 'Warm', 'Change', 'No'],\n",
       " ['Sunny', 'Warm', 'High', 'Strong', 'Cool', 'Change', 'Yes']]"
      ]
     },
     "execution_count": 36,
     "metadata": {},
     "output_type": "execute_result"
    }
   ],
   "source": [
    "import csv\n",
    "dataset = list()\n",
    "with open('./Datasets/Sports.csv','rt')as f:\n",
    "    data = csv.reader(f)\n",
    "    head = 1\n",
    "    for row in data:\n",
    "        dataset.append(row)\n",
    "        \n",
    "k = 0\n",
    "for row in dataset[1:]:\n",
    "    k += 1\n",
    "    if row[-1] == 'Yes':\n",
    "        break\n",
    "    \n",
    "\n",
    "dataset = dataset[0:1] + dataset[k:] + dataset[1:k]\n",
    "dataset"
   ]
  },
  {
   "cell_type": "code",
   "execution_count": 37,
   "metadata": {},
   "outputs": [],
   "source": [
    "s = list()\n",
    "GHyp = list()\n",
    "g = dict()\n",
    "for head in dataset[0][:-1]:\n",
    "    g[head] = '?';\n",
    "    s.append('0')\n",
    "    \n",
    "for row in dataset[1:]:\n",
    "    if(row[-1] == 'Yes'):\n",
    "        for i in range (0, len(row) - 1):\n",
    "            if s[i] == row[i]:\n",
    "                continue\n",
    "            if s[i] == '0':\n",
    "                s[i] = row[i]\n",
    "            else:\n",
    "                s[i] = '?'\n",
    "                if len(GHyp) > 0:\n",
    "                    for dictionary in range(0, len(GHyp)):\n",
    "                        if GHyp[dictionary][dataset[0][i]] != '?':\n",
    "                            #print('Extra hypothesis')\n",
    "                            del GHyp[dictionary]\n",
    "                \n",
    "    else:\n",
    "        for i in range (0, len(row) - 1):\n",
    "            if s[i] == '?' or s[i] == row[i]:\n",
    "                continue\n",
    "            temp = dict(g)\n",
    "            temp[dataset[0][i]] = s[i]\n",
    "            GHyp.append(temp)    "
   ]
  },
  {
   "cell_type": "code",
   "execution_count": 38,
   "metadata": {},
   "outputs": [
    {
     "name": "stdout",
     "output_type": "stream",
     "text": [
      "Set of hypotheses :  [['Sunny', 'Warm', '?', 'Strong', '?', '?'], ['Sunny', '?', '?', '?', '?', '?'], ['?', 'Warm', '?', '?', '?', '?']]\n"
     ]
    }
   ],
   "source": [
    "Hypotheses = list()\n",
    "Hypotheses.append(s[:])\n",
    "for dictionary in GHyp:\n",
    "    valid = True\n",
    "    position = -1\n",
    "    if (list(dictionary.values()) not in Hypotheses):\n",
    "        GHypothesis = list(dictionary.values())\n",
    "        for value in GHypothesis:\n",
    "            position += 1\n",
    "            if value != '?':\n",
    "                break\n",
    "        for row in dataset:\n",
    "            if row[position] == GHypothesis[position] and row[-1] == 'No':\n",
    "                valid = False\n",
    "        if valid:\n",
    "            Hypotheses.append(GHypothesis[:])\n",
    "    \n",
    "print('Set of hypotheses : ',Hypotheses)"
   ]
  },
  {
   "cell_type": "code",
   "execution_count": null,
   "metadata": {},
   "outputs": [],
   "source": []
  },
  {
   "cell_type": "code",
   "execution_count": 45,
   "metadata": {},
   "outputs": [
    {
     "data": {
      "text/plain": [
       "[['Size', 'Colour', 'Shape', 'Label'],\n",
       " ['Small', 'Red', 'Circle', 'Yes'],\n",
       " ['Big', 'Blue', 'Circle', 'No'],\n",
       " ['Small', 'Blue', 'Circle', 'Yes'],\n",
       " ['Big', 'Red', 'Circle', 'No'],\n",
       " ['Small', 'Red', 'Triangle', 'No']]"
      ]
     },
     "execution_count": 45,
     "metadata": {},
     "output_type": "execute_result"
    }
   ],
   "source": [
    "import csv\n",
    "dataset = list()\n",
    "with open('./Datasets/D3.csv','rt')as f:\n",
    "    data = csv.reader(f)\n",
    "    head = 1\n",
    "    for row in data:\n",
    "        dataset.append(row)\n",
    "        \n",
    "k = 0\n",
    "for row in dataset[1:]:\n",
    "    k += 1\n",
    "    if row[-1] == 'Yes':\n",
    "        break\n",
    "\n",
    "dataset = dataset[0:1] + dataset[k:] + dataset[1:k]\n",
    "dataset"
   ]
  },
  {
   "cell_type": "code",
   "execution_count": 46,
   "metadata": {},
   "outputs": [],
   "source": [
    "s = list()\n",
    "GHyp = list()\n",
    "g = dict()\n",
    "for head in dataset[0][:-1]:\n",
    "    g[head] = '?';\n",
    "    s.append('0')\n",
    "\n",
    "for row in dataset[1:]:\n",
    "    if(row[-1] == 'Yes'):\n",
    "        for i in range (0, len(row) - 1):\n",
    "            if s[i] == row[i]:\n",
    "                continue\n",
    "            if s[i] == '0':\n",
    "                s[i] = row[i]\n",
    "            else:\n",
    "                s[i] = '?'\n",
    "                if len(GHyp) > 0:\n",
    "                    for dictionary in range(0, len(GHyp)):\n",
    "                        if GHyp[dictionary][dataset[0][i]] != '?':\n",
    "                            #print('Extra hypothesis')\n",
    "                            del GHyp[dictionary]\n",
    "                \n",
    "    else:\n",
    "        for i in range (0, len(row) - 1):\n",
    "            if s[i] == '?' or s[i] == row[i]:\n",
    "                continue\n",
    "            temp = dict(g)\n",
    "            temp[dataset[0][i]] = s[i]\n",
    "            GHyp.append(temp) "
   ]
  },
  {
   "cell_type": "code",
   "execution_count": 47,
   "metadata": {},
   "outputs": [
    {
     "name": "stdout",
     "output_type": "stream",
     "text": [
      "Set of hypotheses :  [['Small', '?', 'Circle']]\n"
     ]
    }
   ],
   "source": [
    "Hypotheses = list()\n",
    "Hypotheses.append(s[:])\n",
    "for dictionary in GHyp:\n",
    "    valid = True\n",
    "    position = -1\n",
    "    if (list(dictionary.values()) not in Hypotheses):\n",
    "        GHypothesis = list(dictionary.values())\n",
    "        for value in GHypothesis:\n",
    "            position += 1\n",
    "            if value != '?':\n",
    "                break\n",
    "        for row in dataset:\n",
    "            if row[position] == GHypothesis[position] and row[-1] == 'No':\n",
    "                valid = False\n",
    "        if valid:\n",
    "            Hypotheses.append(GHypothesis[:])\n",
    "    \n",
    "print('Set of hypotheses : ',Hypotheses)"
   ]
  },
  {
   "cell_type": "code",
   "execution_count": null,
   "metadata": {},
   "outputs": [],
   "source": []
  },
  {
   "cell_type": "code",
   "execution_count": 42,
   "metadata": {},
   "outputs": [
    {
     "data": {
      "text/plain": [
       "[['Color', 'Size', 'Shape', 'Land', 'Air humidity', 'Texture', 'P/NP'],\n",
       " ['Red', 'Small', 'Elongated', 'Humid', 'High', 'Rough', 'Poisonous'],\n",
       " ['Red', 'Small', 'Round', 'Humid', 'Low', 'Smooth', 'Poisonous'],\n",
       " ['Red', 'Small', 'Elongated', 'Humid', 'Low', 'Smooth', 'Poisonous'],\n",
       " ['Grey', 'Large', 'Elongated', 'Humid', 'Low', 'Rough', 'Non-poisonous']]"
      ]
     },
     "execution_count": 42,
     "metadata": {},
     "output_type": "execute_result"
    }
   ],
   "source": [
    "import csv\n",
    "dataset = list()\n",
    "with open('./Datasets/Mushroom.csv','rt')as f:\n",
    "    data = csv.reader(f)\n",
    "    head = 1\n",
    "    for row in data:\n",
    "        dataset.append(row)\n",
    "        \n",
    "k = 0\n",
    "for row in dataset[1:]:\n",
    "    k += 1\n",
    "    if row[-1] == 'Yes':\n",
    "        break\n",
    "\n",
    "dataset = dataset[0:1] + dataset[k:] + dataset[1:k]\n",
    "dataset"
   ]
  },
  {
   "cell_type": "code",
   "execution_count": 43,
   "metadata": {},
   "outputs": [],
   "source": [
    "s = list()\n",
    "GHyp = list()\n",
    "g = dict()\n",
    "for head in dataset[0][:-1]:\n",
    "    g[head] = '?';\n",
    "    s.append('0')\n",
    "\n",
    "for row in dataset[1:]:\n",
    "    if(row[-1] == 'Poisonous'):\n",
    "        for i in range (0, len(row) - 1):\n",
    "            if s[i] == row[i]:\n",
    "                continue\n",
    "            if s[i] == '0':\n",
    "                s[i] = row[i]\n",
    "            else:\n",
    "                s[i] = '?'\n",
    "                if len(GHyp) > 0:\n",
    "                    for dictionary in range(0, len(GHyp)):\n",
    "                        if GHyp[dictionary][dataset[0][i]] != '?':\n",
    "                            #print('Extra hypothesis')\n",
    "                            del GHyp[dictionary]\n",
    "                \n",
    "    else:\n",
    "        for i in range (0, len(row) - 1):\n",
    "            if s[i] == '?' or s[i] == row[i]:\n",
    "                continue\n",
    "            temp = dict(g)\n",
    "            temp[dataset[0][i]] = s[i]\n",
    "            GHyp.append(temp) "
   ]
  },
  {
   "cell_type": "code",
   "execution_count": 44,
   "metadata": {},
   "outputs": [
    {
     "name": "stdout",
     "output_type": "stream",
     "text": [
      "Set of hypotheses :  [['Red', 'Small', '?', 'Humid', '?', '?'], ['Red', '?', '?', '?', '?', '?'], ['?', 'Small', '?', '?', '?', '?']]\n"
     ]
    }
   ],
   "source": [
    "Hypotheses = list()\n",
    "Hypotheses.append(s[:])\n",
    "for dictionary in GHyp:\n",
    "    valid = True\n",
    "    position = -1\n",
    "    if (list(dictionary.values()) not in Hypotheses):\n",
    "        GHypothesis = list(dictionary.values())\n",
    "        for value in GHypothesis:\n",
    "            position += 1\n",
    "            if value != '?':\n",
    "                break\n",
    "        for row in dataset:\n",
    "            if row[position] == GHypothesis[position] and row[-1] == 'Non-Poisonous':\n",
    "                valid = False\n",
    "        if valid:\n",
    "            Hypotheses.append(GHypothesis[:])\n",
    "    \n",
    "print('Set of hypotheses : ',Hypotheses)"
   ]
  },
  {
   "cell_type": "code",
   "execution_count": null,
   "metadata": {},
   "outputs": [],
   "source": []
  }
 ],
 "metadata": {
  "kernelspec": {
   "display_name": "Python 3",
   "language": "python",
   "name": "python3"
  },
  "language_info": {
   "codemirror_mode": {
    "name": "ipython",
    "version": 3
   },
   "file_extension": ".py",
   "mimetype": "text/x-python",
   "name": "python",
   "nbconvert_exporter": "python",
   "pygments_lexer": "ipython3",
   "version": "3.6.5"
  }
 },
 "nbformat": 4,
 "nbformat_minor": 2
}
