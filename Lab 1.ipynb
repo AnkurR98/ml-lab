{
 "cells": [
  {
   "cell_type": "markdown",
   "metadata": {},
   "source": [
    "<h1><u>Numpy</u></h1>"
   ]
  },
  {
   "cell_type": "code",
   "execution_count": 1,
   "metadata": {},
   "outputs": [
    {
     "name": "stdout",
     "output_type": "stream",
     "text": [
      "[('abc', 21, 50.) ('xyz', 18, 75.)]\n"
     ]
    }
   ],
   "source": [
    "import numpy as np\n",
    "student = np.dtype([('name', np.unicode_,  16), ('age', 'i1'), ('marks','f4')])\n",
    "a = np.array([('abc', 21, 50), ('xyz', 18, 75)], dtype = student)\n",
    "print(a)"
   ]
  },
  {
   "cell_type": "code",
   "execution_count": 2,
   "metadata": {},
   "outputs": [
    {
     "name": "stdout",
     "output_type": "stream",
     "text": [
      "[[1 2]\n",
      " [3 4]\n",
      " [5 6]]\n"
     ]
    }
   ],
   "source": [
    "a = np.array([[1, 2, 3], [4, 5, 6]])\n",
    "b = a.reshape(3,2)\n",
    "print(b)"
   ]
  },
  {
   "cell_type": "code",
   "execution_count": 3,
   "metadata": {},
   "outputs": [
    {
     "name": "stdout",
     "output_type": "stream",
     "text": [
      "[ 0  3  6  9 12 15 18 21 24 27 30 33 36 39 42 45 48 51 54 57 60 63 66 69]\n"
     ]
    }
   ],
   "source": [
    "print(np.arange(0,70,3, dtype='int'))"
   ]
  },
  {
   "cell_type": "code",
   "execution_count": 4,
   "metadata": {},
   "outputs": [
    {
     "name": "stdout",
     "output_type": "stream",
     "text": [
      "[[[ 0  1  2]\n",
      "  [ 3  4  5]\n",
      "  [ 6  7  8]\n",
      "  [ 9 10 11]]\n",
      "\n",
      " [[12 13 14]\n",
      "  [15 16 17]\n",
      "  [18 19 20]\n",
      "  [21 22 23]]]\n"
     ]
    }
   ],
   "source": [
    "print(np.arange(24).reshape(2, 4, 3))"
   ]
  },
  {
   "cell_type": "code",
   "execution_count": 5,
   "metadata": {},
   "outputs": [
    {
     "name": "stdout",
     "output_type": "stream",
     "text": [
      "[0. 0. 0. 0. 0. 0.]\n",
      "['H' 'e' 'l' 'l' 'o' ' ' 'W' 'o' 'r' 'l' 'd']\n"
     ]
    }
   ],
   "source": [
    "print(np.zeros(6))\n",
    "s = 'Hello World'\n",
    "print(np.fromiter(s, dtype = 'U1'))"
   ]
  },
  {
   "cell_type": "code",
   "execution_count": 6,
   "metadata": {},
   "outputs": [
    {
     "name": "stdout",
     "output_type": "stream",
     "text": [
      "[[ 0  4  8]\n",
      " [ 1  5  9]\n",
      " [ 2  6 10]\n",
      " [ 3  7 11]]\n"
     ]
    }
   ],
   "source": [
    "print(np.transpose(np.arange(12).reshape(3,4)))"
   ]
  },
  {
   "cell_type": "code",
   "execution_count": 7,
   "metadata": {},
   "outputs": [
    {
     "name": "stdout",
     "output_type": "stream",
     "text": [
      "[[ 0  4  8]\n",
      " [ 1  5  9]\n",
      " [ 2  6 10]\n",
      " [ 3  7 11]]\n"
     ]
    }
   ],
   "source": [
    "a = np.arange(12).reshape(3,4)\n",
    "b = np.zeros(12, dtype='int').reshape(4,3)\n",
    "for i in range(0,3):\n",
    "    for j in range(0,4):\n",
    "        b[j][i] = a[i][j]\n",
    "print(b)"
   ]
  },
  {
   "cell_type": "code",
   "execution_count": 8,
   "metadata": {},
   "outputs": [
    {
     "name": "stdout",
     "output_type": "stream",
     "text": [
      "[[1 0 0 0 0 0 0 0 0 0]\n",
      " [0 1 0 0 0 0 0 0 0 0]\n",
      " [0 0 1 0 0 0 0 0 0 0]\n",
      " [0 0 0 1 0 0 0 0 0 0]\n",
      " [0 0 0 0 1 0 0 0 0 0]\n",
      " [0 0 0 0 0 1 0 0 0 0]\n",
      " [0 0 0 0 0 0 1 0 0 0]\n",
      " [0 0 0 0 0 0 0 1 0 0]\n",
      " [0 0 0 0 0 0 0 0 1 0]\n",
      " [0 0 0 0 0 0 0 0 0 1]]\n"
     ]
    }
   ],
   "source": [
    "print(np.eye(10, dtype='int'))"
   ]
  },
  {
   "cell_type": "code",
   "execution_count": 25,
   "metadata": {},
   "outputs": [],
   "source": [
    "ds1 = np.genfromtxt('./Datasets/Sports.csv', dtype='U15', delimiter=',')\n",
    "ds2 = np.genfromtxt('./Datasets/Mushroom.csv', dtype='U15', delimiter=',')\n",
    "ds3 = np.genfromtxt('./Datasets/D3.csv', dtype='U15', delimiter=',')"
   ]
  },
  {
   "cell_type": "code",
   "execution_count": 10,
   "metadata": {},
   "outputs": [
    {
     "name": "stdout",
     "output_type": "stream",
     "text": [
      "[['Sky' 'Temperature' 'Humidity' 'Wind' 'Water' 'Forecast' 'EnjoySport']\n",
      " ['Sunny' 'Warm' 'Normal' 'Strong' 'Warm' 'Same' 'Yes']\n",
      " ['Sunny' 'Warm' 'High' 'Strong' 'Warm' 'Same' 'Yes']\n",
      " ['Rainy' 'Cold' 'High' 'Strong' 'Warm' 'Change' 'No']\n",
      " ['Sunny' 'Warm' 'High' 'Strong' 'Cool' 'Change' 'Yes']] \n",
      "\n",
      " [['Color' 'Size' 'Shape' 'Land' 'Air humidity' 'Texture' 'P/NP']\n",
      " ['Red' 'Small' 'Round' 'Humid' 'Low' 'Smooth' 'Poisonous']\n",
      " ['Red' 'Small' 'Elongated' 'Humid' 'Low' 'Smooth' 'Poisonous']\n",
      " ['Grey' 'Large' 'Elongated' 'Humid' 'Low' 'Rough' 'Non-poisonous']\n",
      " ['Red' 'Small' 'Elongated' 'Humid' 'High' 'Rough' 'Poisonous']] \n",
      "\n",
      " [['Size' 'Colour' 'Shape' 'Label']\n",
      " ['Big' 'Red' 'Circle' 'No']\n",
      " ['Small' 'Red' 'Triangle' 'No']\n",
      " ['Small' 'Red' 'Circle' 'Yes']\n",
      " ['Big' 'Blue' 'Circle' 'No']\n",
      " ['Small' 'Blue' 'Circle' 'Yes']]\n"
     ]
    }
   ],
   "source": [
    "print(ds1, \"\\n\\n\", ds2, \"\\n\\n\", ds3)"
   ]
  },
  {
   "cell_type": "code",
   "execution_count": 11,
   "metadata": {},
   "outputs": [
    {
     "name": "stdout",
     "output_type": "stream",
     "text": [
      "[[4 3]\n",
      " [2 1]] \n",
      "\n",
      " [[1 2]\n",
      " [3 4]] \n",
      "\n",
      " [[13 20]\n",
      " [ 5  8]] \n",
      "\n",
      " [[13 20]\n",
      " [ 5  8]]\n"
     ]
    }
   ],
   "source": [
    "a = np.mat('4 3; 2 1')\n",
    "b = np.mat('1 2; 3 4')\n",
    "print(a, \"\\n\\n\", b, \"\\n\\n\", np.matmul(a,b), \"\\n\\n\", a@b)"
   ]
  },
  {
   "cell_type": "code",
   "execution_count": 12,
   "metadata": {},
   "outputs": [
    {
     "name": "stdout",
     "output_type": "stream",
     "text": [
      "4.75 \n",
      "\n",
      " 4.5\n"
     ]
    }
   ],
   "source": [
    "a = np.array([[1,2,3],[3,4,5],[4,5,6],[7,8,9]])\n",
    "print(np.mean(a), \"\\n\\n\", np.median(a))"
   ]
  },
  {
   "cell_type": "code",
   "execution_count": 13,
   "metadata": {},
   "outputs": [
    {
     "name": "stdout",
     "output_type": "stream",
     "text": [
      "1.25 \n",
      "\n",
      " 1.118033988749895\n"
     ]
    }
   ],
   "source": [
    "print(np.var([1,2,3,4]), \"\\n\\n\", np.std([1,2,3,4]))"
   ]
  },
  {
   "cell_type": "code",
   "execution_count": 14,
   "metadata": {},
   "outputs": [
    {
     "name": "stdout",
     "output_type": "stream",
     "text": [
      "2, 10.000000000000002,\n",
      "[[ 0.6 -0.7]\n",
      " [-0.2  0.4]].\n"
     ]
    }
   ],
   "source": [
    "a = np.array([[4,7], [2,6]])\n",
    "print(np.linalg.matrix_rank(a), end=\", \")\n",
    "print(np.linalg.det(a), end=\",\\n\")\n",
    "print(np.linalg.inv(a), end=\".\\n\")"
   ]
  },
  {
   "cell_type": "code",
   "execution_count": 15,
   "metadata": {},
   "outputs": [
    {
     "name": "stdout",
     "output_type": "stream",
     "text": [
      "x + 2y = 8\n",
      "3x + 4y = 18\n",
      "\n",
      " [2. 3.]\n"
     ]
    }
   ],
   "source": [
    "print('x + 2y = 8\\n3x + 4y = 18\\n\\n',np.linalg.solve([[1,2],[3,4]],[8,18]))"
   ]
  },
  {
   "cell_type": "markdown",
   "metadata": {},
   "source": [
    "<h1><u>Pandas</u></h1>"
   ]
  },
  {
   "cell_type": "code",
   "execution_count": 16,
   "metadata": {},
   "outputs": [
    {
     "name": "stdout",
     "output_type": "stream",
     "text": [
      "     Name  Age\n",
      "0    Alex   10\n",
      "1     Bob   12\n",
      "2  Clarke   13\n"
     ]
    }
   ],
   "source": [
    "import pandas as pd\n",
    "data = [['Alex', 10], ['Bob', 12], ['Clarke', 13]]\n",
    "df = pd.DataFrame(data, columns=['Name','Age'])\n",
    "print(df)"
   ]
  },
  {
   "cell_type": "code",
   "execution_count": 23,
   "metadata": {},
   "outputs": [
    {
     "data": {
      "text/html": [
       "<div>\n",
       "<style scoped>\n",
       "    .dataframe tbody tr th:only-of-type {\n",
       "        vertical-align: middle;\n",
       "    }\n",
       "\n",
       "    .dataframe tbody tr th {\n",
       "        vertical-align: top;\n",
       "    }\n",
       "\n",
       "    .dataframe thead th {\n",
       "        text-align: right;\n",
       "    }\n",
       "</style>\n",
       "<table border=\"1\" class=\"dataframe\">\n",
       "  <thead>\n",
       "    <tr style=\"text-align: right;\">\n",
       "      <th></th>\n",
       "      <th>Name</th>\n",
       "    </tr>\n",
       "  </thead>\n",
       "  <tbody>\n",
       "    <tr>\n",
       "      <th>0</th>\n",
       "      <td>Alex</td>\n",
       "    </tr>\n",
       "    <tr>\n",
       "      <th>1</th>\n",
       "      <td>Bob</td>\n",
       "    </tr>\n",
       "    <tr>\n",
       "      <th>2</th>\n",
       "      <td>Clarke</td>\n",
       "    </tr>\n",
       "  </tbody>\n",
       "</table>\n",
       "</div>"
      ],
      "text/plain": [
       "     Name\n",
       "0    Alex\n",
       "1     Bob\n",
       "2  Clarke"
      ]
     },
     "execution_count": 23,
     "metadata": {},
     "output_type": "execute_result"
    }
   ],
   "source": [
    "df.iloc[:,0:1]"
   ]
  },
  {
   "cell_type": "code",
   "execution_count": 30,
   "metadata": {},
   "outputs": [
    {
     "data": {
      "text/html": [
       "<div>\n",
       "<style scoped>\n",
       "    .dataframe tbody tr th:only-of-type {\n",
       "        vertical-align: middle;\n",
       "    }\n",
       "\n",
       "    .dataframe tbody tr th {\n",
       "        vertical-align: top;\n",
       "    }\n",
       "\n",
       "    .dataframe thead th {\n",
       "        text-align: right;\n",
       "    }\n",
       "</style>\n",
       "<table border=\"1\" class=\"dataframe\">\n",
       "  <thead>\n",
       "    <tr style=\"text-align: right;\">\n",
       "      <th></th>\n",
       "      <th>Name</th>\n",
       "    </tr>\n",
       "  </thead>\n",
       "  <tbody>\n",
       "    <tr>\n",
       "      <th>1</th>\n",
       "      <td>Bob</td>\n",
       "    </tr>\n",
       "    <tr>\n",
       "      <th>2</th>\n",
       "      <td>Clarke</td>\n",
       "    </tr>\n",
       "  </tbody>\n",
       "</table>\n",
       "</div>"
      ],
      "text/plain": [
       "     Name\n",
       "1     Bob\n",
       "2  Clarke"
      ]
     },
     "execution_count": 30,
     "metadata": {},
     "output_type": "execute_result"
    }
   ],
   "source": [
    "df.loc[1:,['Name']]"
   ]
  },
  {
   "cell_type": "code",
   "execution_count": 27,
   "metadata": {},
   "outputs": [],
   "source": [
    "ds1 = pd.read_csv('./Datasets/Sports.csv')\n",
    "ds2 = pd.read_csv('./Datasets/Mushroom.csv')\n",
    "ds3 = pd.read_csv('./Datasets/D3.csv')"
   ]
  },
  {
   "cell_type": "code",
   "execution_count": 29,
   "metadata": {},
   "outputs": [
    {
     "name": "stdout",
     "output_type": "stream",
     "text": [
      "     Sky Temperature Humidity    Wind Water Forecast EnjoySport\n",
      "0  Sunny        Warm   Normal  Strong  Warm     Same        Yes\n",
      "1  Sunny        Warm     High  Strong  Warm     Same        Yes\n",
      "2  Rainy        Cold     High  Strong  Warm   Change         No\n",
      "3  Sunny        Warm     High  Strong  Cool   Change        Yes\n",
      "\n",
      "  Color   Size      Shape   Land Air humidity Texture           P/NP\n",
      "0   Red  Small      Round  Humid          Low  Smooth      Poisonous\n",
      "1   Red  Small  Elongated  Humid          Low  Smooth      Poisonous\n",
      "2  Grey  Large  Elongated  Humid          Low   Rough  Non-poisonous\n",
      "3   Red  Small  Elongated  Humid         High   Rough      Poisonous\n",
      "\n",
      "    Size Colour     Shape Label\n",
      "0    Big    Red    Circle    No\n",
      "1  Small    Red  Triangle    No\n",
      "2  Small    Red    Circle   Yes\n",
      "3    Big   Blue    Circle    No\n",
      "4  Small   Blue    Circle   Yes\n"
     ]
    }
   ],
   "source": [
    "print(ds1,end=\"\\n\\n\")\n",
    "print(ds2,end=\"\\n\\n\")\n",
    "print(ds3)"
   ]
  },
  {
   "cell_type": "code",
   "execution_count": 32,
   "metadata": {},
   "outputs": [
    {
     "name": "stdout",
     "output_type": "stream",
     "text": [
      "        one       two     three\n",
      "a  0.599717 -0.503401  1.850396\n",
      "b       NaN       NaN       NaN\n",
      "c -0.251753 -1.530888 -0.699592\n",
      "d       NaN       NaN       NaN\n",
      "e  1.195238  2.201305  1.736050\n",
      "f  0.330791 -0.743620 -0.316642\n",
      "g       NaN       NaN       NaN\n",
      "h  0.393042 -0.434718  0.838301\n"
     ]
    }
   ],
   "source": [
    "df = pd.DataFrame(np.random.randn(5,3),index=['a', 'c', 'e', 'f', 'h'],columns=['one','two','three'])\n",
    "df = df.reindex(['a','b','c','d','e','f','g','h'])\n",
    "print(df)"
   ]
  },
  {
   "cell_type": "code",
   "execution_count": null,
   "metadata": {},
   "outputs": [],
   "source": []
  }
 ],
 "metadata": {
  "kernelspec": {
   "display_name": "Python 3",
   "language": "python",
   "name": "python3"
  },
  "language_info": {
   "codemirror_mode": {
    "name": "ipython",
    "version": 3
   },
   "file_extension": ".py",
   "mimetype": "text/x-python",
   "name": "python",
   "nbconvert_exporter": "python",
   "pygments_lexer": "ipython3",
   "version": "3.7.0"
  }
 },
 "nbformat": 4,
 "nbformat_minor": 2
}
