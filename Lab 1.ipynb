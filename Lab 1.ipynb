{
 "cells": [
  {
   "cell_type": "code",
   "execution_count": 2,
   "metadata": {},
   "outputs": [
    {
     "name": "stdout",
     "output_type": "stream",
     "text": [
      "[('abc', 21, 50.) ('xyz', 18, 75.)]\n"
     ]
    }
   ],
   "source": [
    "import numpy as np\n",
    "student = np.dtype([('name', np.unicode_,  16), ('age', 'i1'), ('marks','f4')])\n",
    "a = np.array([('abc', 21, 50), ('xyz', 18, 75)], dtype = student)\n",
    "print(a)"
   ]
  },
  {
   "cell_type": "code",
   "execution_count": 3,
   "metadata": {},
   "outputs": [
    {
     "name": "stdout",
     "output_type": "stream",
     "text": [
      "[[1 2]\n",
      " [3 4]\n",
      " [5 6]]\n"
     ]
    }
   ],
   "source": [
    "a = np.array([[1, 2, 3], [4, 5, 6]])\n",
    "b = a.reshape(3,2)\n",
    "print(b)"
   ]
  },
  {
   "cell_type": "code",
   "execution_count": 10,
   "metadata": {},
   "outputs": [
    {
     "name": "stdout",
     "output_type": "stream",
     "text": [
      "[ 0  3  6  9 12 15 18 21 24 27 30 33 36 39 42 45 48 51 54 57 60 63 66 69]\n"
     ]
    }
   ],
   "source": [
    "print(np.arange(0,70,3, dtype='int'))"
   ]
  },
  {
   "cell_type": "code",
   "execution_count": 11,
   "metadata": {},
   "outputs": [
    {
     "name": "stdout",
     "output_type": "stream",
     "text": [
      "[[[ 0  1  2]\n",
      "  [ 3  4  5]\n",
      "  [ 6  7  8]\n",
      "  [ 9 10 11]]\n",
      "\n",
      " [[12 13 14]\n",
      "  [15 16 17]\n",
      "  [18 19 20]\n",
      "  [21 22 23]]]\n"
     ]
    }
   ],
   "source": [
    "print(np.arange(24).reshape(2, 4, 3))"
   ]
  },
  {
   "cell_type": "code",
   "execution_count": 23,
   "metadata": {},
   "outputs": [
    {
     "name": "stdout",
     "output_type": "stream",
     "text": [
      "[0. 0. 0. 0. 0. 0.]\n",
      "['H' 'e' 'l' 'l' 'o' ' ' 'W' 'o' 'r' 'l' 'd']\n"
     ]
    }
   ],
   "source": [
    "print(np.zeros(6))\n",
    "s = 'Hello World'\n",
    "print(np.fromiter(s, dtype = 'U1'))"
   ]
  },
  {
   "cell_type": "code",
   "execution_count": 24,
   "metadata": {},
   "outputs": [
    {
     "name": "stdout",
     "output_type": "stream",
     "text": [
      "[[ 0  4  8]\n",
      " [ 1  5  9]\n",
      " [ 2  6 10]\n",
      " [ 3  7 11]]\n"
     ]
    }
   ],
   "source": [
    "print(np.transpose(np.arange(12).reshape(3,4)))"
   ]
  },
  {
   "cell_type": "code",
   "execution_count": 33,
   "metadata": {},
   "outputs": [
    {
     "name": "stdout",
     "output_type": "stream",
     "text": [
      "[[ 0  4  8]\n",
      " [ 1  5  9]\n",
      " [ 2  6 10]\n",
      " [ 3  7 11]]\n"
     ]
    }
   ],
   "source": [
    "a = np.arange(12).reshape(3,4)\n",
    "b = np.zeros(12, dtype='int').reshape(4,3)\n",
    "for i in range(0,3):\n",
    "    for j in range(0,4):\n",
    "        b[j][i] = a[i][j]\n",
    "print(b)"
   ]
  },
  {
   "cell_type": "code",
   "execution_count": 34,
   "metadata": {},
   "outputs": [
    {
     "name": "stdout",
     "output_type": "stream",
     "text": [
      "[[1 0 0 0 0 0 0 0 0 0]\n",
      " [0 1 0 0 0 0 0 0 0 0]\n",
      " [0 0 1 0 0 0 0 0 0 0]\n",
      " [0 0 0 1 0 0 0 0 0 0]\n",
      " [0 0 0 0 1 0 0 0 0 0]\n",
      " [0 0 0 0 0 1 0 0 0 0]\n",
      " [0 0 0 0 0 0 1 0 0 0]\n",
      " [0 0 0 0 0 0 0 1 0 0]\n",
      " [0 0 0 0 0 0 0 0 1 0]\n",
      " [0 0 0 0 0 0 0 0 0 1]]\n"
     ]
    }
   ],
   "source": [
    "print(np.eye(10, dtype='int'))"
   ]
  },
  {
   "cell_type": "code",
   "execution_count": 36,
   "metadata": {},
   "outputs": [],
   "source": [
    "ds1 = np.genfromtxt('./Datasets/Sports.csv', dtype='U15', delimiter=',')\n",
    "ds2 = np.genfromtxt('./Datasets/Mushroom.csv', dtype='U15', delimiter=',')\n",
    "ds3 = np.genfromtxt('./Datasets/D3.csv', dtype='U15', delimiter=',')"
   ]
  },
  {
   "cell_type": "code",
   "execution_count": 37,
   "metadata": {},
   "outputs": [
    {
     "name": "stdout",
     "output_type": "stream",
     "text": [
      "[['Sky' 'Temperature' 'Humidity' 'Wind' 'Water' 'Forecast' 'EnjoySport']\n",
      " ['Sunny' 'Warm' 'Normal' 'Strong' 'Warm' 'Same' 'Yes']\n",
      " ['Sunny' 'Warm' 'High' 'Strong' 'Warm' 'Same' 'Yes']\n",
      " ['Rainy' 'Cold' 'High' 'Strong' 'Warm' 'Change' 'No']\n",
      " ['Sunny' 'Warm' 'High' 'Strong' 'Cool' 'Change' 'Yes']] \n",
      "\n",
      " [['Color' 'Size' 'Shape' 'Land' 'Air humidity' 'Texture' 'P/NP']\n",
      " ['Red' 'Small' 'Round' 'Humid' 'Low' 'Smooth' 'Poisonous']\n",
      " ['Red' 'Small' 'Elongated' 'Humid' 'Low' 'Smooth' 'Poisonous']\n",
      " ['Grey' 'Large' 'Elongated' 'Humid' 'Low' 'Rough' 'Non-poisonous']\n",
      " ['Red' 'Small' 'Elongated' 'Humid' 'High' 'Rough' 'Poisonous']] \n",
      "\n",
      " [['Size' 'Colour' 'Shape' 'Label']\n",
      " ['Big' 'Red' 'Circle' 'No']\n",
      " ['Small' 'Red' 'Triangle' 'No']\n",
      " ['Small' 'Red' 'Circle' 'Yes']\n",
      " ['Big' 'Blue' 'Circle' 'No']\n",
      " ['Small' 'Blue' 'Circle' 'Yes']]\n"
     ]
    }
   ],
   "source": [
    "print(ds1, \"\\n\\n\", ds2, \"\\n\\n\", ds3)"
   ]
  },
  {
   "cell_type": "code",
   "execution_count": null,
   "metadata": {},
   "outputs": [],
   "source": [
    "np.dot()"
   ]
  }
 ],
 "metadata": {
  "kernelspec": {
   "display_name": "Python 3",
   "language": "python",
   "name": "python3"
  },
  "language_info": {
   "codemirror_mode": {
    "name": "ipython",
    "version": 3
   },
   "file_extension": ".py",
   "mimetype": "text/x-python",
   "name": "python",
   "nbconvert_exporter": "python",
   "pygments_lexer": "ipython3",
   "version": "3.7.0"
  }
 },
 "nbformat": 4,
 "nbformat_minor": 2
}
