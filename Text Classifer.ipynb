{
 "cells": [
  {
   "cell_type": "code",
   "execution_count": 1,
   "metadata": {},
   "outputs": [
    {
     "data": {
      "text/plain": [
       "0                      I love this sandwich\n",
       "1                  This is an amazing place\n",
       "2        I feel very good about these beers\n",
       "3                      This is my best work\n",
       "4                      What an awesome view\n",
       "5             I do not like this restaurant\n",
       "6                  I am tired of this stuff\n",
       "7                    I can't deal with this\n",
       "8                      He is my sworn enemy\n",
       "9                       My boss is horrible\n",
       "10                 This is an awesome place\n",
       "11    I do not like the taste of this juice\n",
       "12                          I love to dance\n",
       "13        I am sick and tired of this place\n",
       "14                     What a great holiday\n",
       "15           That is a bad locality to stay\n",
       "16           We will have good fun tomorrow\n",
       "17         I went to my enemy's house today\n",
       "Name: Message, dtype: object"
      ]
     },
     "execution_count": 1,
     "metadata": {},
     "output_type": "execute_result"
    }
   ],
   "source": [
    "import pandas as pd\n",
    "data = pd.read_csv(\"../../Dataset/6th data.csv\", names=['Message','Label'])\n",
    "data['Message']"
   ]
  },
  {
   "cell_type": "code",
   "execution_count": 2,
   "metadata": {},
   "outputs": [
    {
     "data": {
      "text/html": [
       "<div>\n",
       "<style scoped>\n",
       "    .dataframe tbody tr th:only-of-type {\n",
       "        vertical-align: middle;\n",
       "    }\n",
       "\n",
       "    .dataframe tbody tr th {\n",
       "        vertical-align: top;\n",
       "    }\n",
       "\n",
       "    .dataframe thead th {\n",
       "        text-align: right;\n",
       "    }\n",
       "</style>\n",
       "<table border=\"1\" class=\"dataframe\">\n",
       "  <thead>\n",
       "    <tr style=\"text-align: right;\">\n",
       "      <th></th>\n",
       "      <th>Message</th>\n",
       "      <th>Label</th>\n",
       "      <th>NumLabel</th>\n",
       "    </tr>\n",
       "  </thead>\n",
       "  <tbody>\n",
       "    <tr>\n",
       "      <th>0</th>\n",
       "      <td>I love this sandwich</td>\n",
       "      <td>pos</td>\n",
       "      <td>1</td>\n",
       "    </tr>\n",
       "    <tr>\n",
       "      <th>1</th>\n",
       "      <td>This is an amazing place</td>\n",
       "      <td>pos</td>\n",
       "      <td>1</td>\n",
       "    </tr>\n",
       "    <tr>\n",
       "      <th>2</th>\n",
       "      <td>I feel very good about these beers</td>\n",
       "      <td>pos</td>\n",
       "      <td>1</td>\n",
       "    </tr>\n",
       "    <tr>\n",
       "      <th>3</th>\n",
       "      <td>This is my best work</td>\n",
       "      <td>pos</td>\n",
       "      <td>1</td>\n",
       "    </tr>\n",
       "    <tr>\n",
       "      <th>4</th>\n",
       "      <td>What an awesome view</td>\n",
       "      <td>pos</td>\n",
       "      <td>1</td>\n",
       "    </tr>\n",
       "    <tr>\n",
       "      <th>5</th>\n",
       "      <td>I do not like this restaurant</td>\n",
       "      <td>neg</td>\n",
       "      <td>0</td>\n",
       "    </tr>\n",
       "    <tr>\n",
       "      <th>6</th>\n",
       "      <td>I am tired of this stuff</td>\n",
       "      <td>neg</td>\n",
       "      <td>0</td>\n",
       "    </tr>\n",
       "    <tr>\n",
       "      <th>7</th>\n",
       "      <td>I can't deal with this</td>\n",
       "      <td>neg</td>\n",
       "      <td>0</td>\n",
       "    </tr>\n",
       "    <tr>\n",
       "      <th>8</th>\n",
       "      <td>He is my sworn enemy</td>\n",
       "      <td>neg</td>\n",
       "      <td>0</td>\n",
       "    </tr>\n",
       "    <tr>\n",
       "      <th>9</th>\n",
       "      <td>My boss is horrible</td>\n",
       "      <td>neg</td>\n",
       "      <td>0</td>\n",
       "    </tr>\n",
       "    <tr>\n",
       "      <th>10</th>\n",
       "      <td>This is an awesome place</td>\n",
       "      <td>pos</td>\n",
       "      <td>1</td>\n",
       "    </tr>\n",
       "    <tr>\n",
       "      <th>11</th>\n",
       "      <td>I do not like the taste of this juice</td>\n",
       "      <td>neg</td>\n",
       "      <td>0</td>\n",
       "    </tr>\n",
       "    <tr>\n",
       "      <th>12</th>\n",
       "      <td>I love to dance</td>\n",
       "      <td>pos</td>\n",
       "      <td>1</td>\n",
       "    </tr>\n",
       "    <tr>\n",
       "      <th>13</th>\n",
       "      <td>I am sick and tired of this place</td>\n",
       "      <td>neg</td>\n",
       "      <td>0</td>\n",
       "    </tr>\n",
       "    <tr>\n",
       "      <th>14</th>\n",
       "      <td>What a great holiday</td>\n",
       "      <td>pos</td>\n",
       "      <td>1</td>\n",
       "    </tr>\n",
       "    <tr>\n",
       "      <th>15</th>\n",
       "      <td>That is a bad locality to stay</td>\n",
       "      <td>neg</td>\n",
       "      <td>0</td>\n",
       "    </tr>\n",
       "    <tr>\n",
       "      <th>16</th>\n",
       "      <td>We will have good fun tomorrow</td>\n",
       "      <td>pos</td>\n",
       "      <td>1</td>\n",
       "    </tr>\n",
       "    <tr>\n",
       "      <th>17</th>\n",
       "      <td>I went to my enemy's house today</td>\n",
       "      <td>neg</td>\n",
       "      <td>0</td>\n",
       "    </tr>\n",
       "  </tbody>\n",
       "</table>\n",
       "</div>"
      ],
      "text/plain": [
       "                                  Message Label  NumLabel\n",
       "0                    I love this sandwich   pos         1\n",
       "1                This is an amazing place   pos         1\n",
       "2      I feel very good about these beers   pos         1\n",
       "3                    This is my best work   pos         1\n",
       "4                    What an awesome view   pos         1\n",
       "5           I do not like this restaurant   neg         0\n",
       "6                I am tired of this stuff   neg         0\n",
       "7                  I can't deal with this   neg         0\n",
       "8                    He is my sworn enemy   neg         0\n",
       "9                     My boss is horrible   neg         0\n",
       "10               This is an awesome place   pos         1\n",
       "11  I do not like the taste of this juice   neg         0\n",
       "12                        I love to dance   pos         1\n",
       "13      I am sick and tired of this place   neg         0\n",
       "14                   What a great holiday   pos         1\n",
       "15         That is a bad locality to stay   neg         0\n",
       "16         We will have good fun tomorrow   pos         1\n",
       "17       I went to my enemy's house today   neg         0"
      ]
     },
     "execution_count": 2,
     "metadata": {},
     "output_type": "execute_result"
    }
   ],
   "source": [
    "data['NumLabel'] = data['Label'].map({'pos':1, 'neg':0})\n",
    "data"
   ]
  },
  {
   "cell_type": "code",
   "execution_count": 3,
   "metadata": {},
   "outputs": [],
   "source": [
    "from sklearn.model_selection import train_test_split as tts\n",
    "from sklearn.feature_extraction.text import CountVectorizer as CV\n",
    "from sklearn.naive_bayes import MultinomialNB as MNB"
   ]
  },
  {
   "cell_type": "code",
   "execution_count": 4,
   "metadata": {},
   "outputs": [],
   "source": [
    "X = data['Message']\n",
    "y = data['NumLabel']\n",
    "Xtrain, Xtest, ytrain, ytest = tts(X, y, test_size= 0.25, random_state=54)"
   ]
  },
  {
   "cell_type": "code",
   "execution_count": 5,
   "metadata": {},
   "outputs": [
    {
     "name": "stdout",
     "output_type": "stream",
     "text": [
      "['about', 'am', 'amazing', 'an', 'and', 'awesome', 'bad', 'beers', 'boss', 'can', 'deal', 'do', 'enemy', 'feel', 'good', 'great', 'he', 'holiday', 'horrible', 'is', 'juice', 'like', 'locality', 'love', 'my', 'not', 'of', 'place', 'restaurant', 'sandwich', 'sick', 'stay', 'stuff', 'sworn', 'taste', 'that', 'the', 'these', 'this', 'tired', 'to', 'very', 'view', 'what', 'with'] \n",
      " 45\n"
     ]
    }
   ],
   "source": [
    "DocVector = CV()\n",
    "Xtrain_dtm = DocVector.fit_transform(Xtrain)\n",
    "Xtest_dtm = DocVector.transform(Xtest)\n",
    "print(DocVector.get_feature_names(), \"\\n\", len(DocVector.get_feature_names()))"
   ]
  },
  {
   "cell_type": "code",
   "execution_count": 6,
   "metadata": {},
   "outputs": [
    {
     "name": "stdout",
     "output_type": "stream",
     "text": [
      "    about  am  amazing  an  and  awesome  bad  beers  boss  can  ...   that  \\\n",
      "0       0   0        0   0    0        0    0      0     0    0  ...      0   \n",
      "1       0   0        0   1    0        1    0      0     0    0  ...      0   \n",
      "2       0   0        0   0    0        0    0      0     1    0  ...      0   \n",
      "3       0   1        0   0    0        0    0      0     0    0  ...      0   \n",
      "4       0   1        0   0    1        0    0      0     0    0  ...      0   \n",
      "5       0   0        0   0    0        0    0      0     0    0  ...      0   \n",
      "6       0   0        0   0    0        0    0      0     0    0  ...      0   \n",
      "7       0   0        0   0    0        0    0      0     0    0  ...      0   \n",
      "8       0   0        1   1    0        0    0      0     0    0  ...      0   \n",
      "9       0   0        0   0    0        0    0      0     0    1  ...      0   \n",
      "10      1   0        0   0    0        0    0      1     0    0  ...      0   \n",
      "11      0   0        0   0    0        0    0      0     0    0  ...      0   \n",
      "12      0   0        0   0    0        0    1      0     0    0  ...      1   \n",
      "\n",
      "    the  these  this  tired  to  very  view  what  with  \n",
      "0     1      0     1      0   0     0     0     0     0  \n",
      "1     0      0     0      0   0     0     1     1     0  \n",
      "2     0      0     0      0   0     0     0     0     0  \n",
      "3     0      0     1      1   0     0     0     0     0  \n",
      "4     0      0     1      1   0     0     0     0     0  \n",
      "5     0      0     0      0   0     0     0     1     0  \n",
      "6     0      0     0      0   0     0     0     0     0  \n",
      "7     0      0     1      0   0     0     0     0     0  \n",
      "8     0      0     1      0   0     0     0     0     0  \n",
      "9     0      0     1      0   0     0     0     0     1  \n",
      "10    0      1     0      0   0     1     0     0     0  \n",
      "11    0      0     1      0   0     0     0     0     0  \n",
      "12    0      0     0      0   1     0     0     0     0  \n",
      "\n",
      "[13 rows x 45 columns]\n",
      "  (0, 20)\t1\n",
      "  (0, 38)\t1\n",
      "  (0, 26)\t1\n",
      "  (0, 34)\t1\n",
      "  (0, 36)\t1\n",
      "  (0, 21)\t1\n",
      "  (0, 25)\t1\n",
      "  (0, 11)\t1\n",
      "  (1, 42)\t1\n",
      "  (1, 5)\t1\n",
      "  (1, 3)\t1\n",
      "  (1, 43)\t1\n",
      "  (2, 18)\t1\n",
      "  (2, 19)\t1\n",
      "  (2, 8)\t1\n",
      "  (2, 24)\t1\n",
      "  (3, 32)\t1\n",
      "  (3, 39)\t1\n",
      "  (3, 1)\t1\n",
      "  (3, 38)\t1\n",
      "  (3, 26)\t1\n",
      "  (4, 27)\t1\n",
      "  (4, 4)\t1\n",
      "  (4, 30)\t1\n",
      "  (4, 39)\t1\n",
      "  :\t:\n",
      "  (8, 27)\t1\n",
      "  (8, 19)\t1\n",
      "  (8, 3)\t1\n",
      "  (8, 38)\t1\n",
      "  (9, 44)\t1\n",
      "  (9, 10)\t1\n",
      "  (9, 9)\t1\n",
      "  (9, 38)\t1\n",
      "  (10, 7)\t1\n",
      "  (10, 37)\t1\n",
      "  (10, 0)\t1\n",
      "  (10, 14)\t1\n",
      "  (10, 41)\t1\n",
      "  (10, 13)\t1\n",
      "  (11, 28)\t1\n",
      "  (11, 38)\t1\n",
      "  (11, 21)\t1\n",
      "  (11, 25)\t1\n",
      "  (11, 11)\t1\n",
      "  (12, 31)\t1\n",
      "  (12, 40)\t1\n",
      "  (12, 22)\t1\n",
      "  (12, 6)\t1\n",
      "  (12, 35)\t1\n",
      "  (12, 19)\t1\n"
     ]
    }
   ],
   "source": [
    "sparseMat = pd.DataFrame(Xtrain_dtm.toarray(), columns=DocVector.get_feature_names())\n",
    "print(sparseMat)\n",
    "print(Xtrain_dtm)"
   ]
  },
  {
   "cell_type": "code",
   "execution_count": 7,
   "metadata": {},
   "outputs": [],
   "source": [
    "MNBayes = MNB()\n",
    "MNBayes = MNBayes.fit(Xtrain_dtm, ytrain)\n",
    "ypredict = MNBayes.predict(Xtest_dtm)"
   ]
  },
  {
   "cell_type": "code",
   "execution_count": 8,
   "metadata": {},
   "outputs": [],
   "source": [
    "from sklearn import metrics"
   ]
  },
  {
   "cell_type": "code",
   "execution_count": 9,
   "metadata": {},
   "outputs": [
    {
     "name": "stdout",
     "output_type": "stream",
     "text": [
      "Accuracy of algorithm =  80.0 %\n",
      "Confusion matrix = \n",
      "[[1 0]\n",
      " [1 3]]\n",
      "Recall =  0.75\n",
      "Precision =  1.0\n"
     ]
    }
   ],
   "source": [
    "print(\"Accuracy of algorithm = \", metrics.accuracy_score(ytest, ypredict)*100, \"%\")\n",
    "print(\"Confusion matrix = \")\n",
    "print(metrics.confusion_matrix(ytest, ypredict))\n",
    "print(\"Recall = \", metrics.recall_score(ytest, ypredict))\n",
    "print(\"Precision = \", metrics.precision_score(ytest, ypredict))"
   ]
  },
  {
   "cell_type": "code",
   "execution_count": 10,
   "metadata": {},
   "outputs": [
    {
     "name": "stdout",
     "output_type": "stream",
     "text": [
      "I love this place  =>  1\n",
      "My boss is not my saviour  =>  0\n"
     ]
    }
   ],
   "source": [
    "docs_new = ['I love this place', 'My boss is not my saviour']\n",
    "docs_new_dtm = DocVector.transform(docs_new)\n",
    "newpredict = MNBayes.predict(docs_new_dtm)\n",
    "for i in range(len(docs_new)):\n",
    "    print(docs_new[i], \" => \", newpredict[i])"
   ]
  },
  {
   "cell_type": "code",
   "execution_count": 11,
   "metadata": {},
   "outputs": [
    {
     "data": {
      "text/plain": [
       "11    I do not like the taste of this juice\n",
       "4                      What an awesome view\n",
       "9                       My boss is horrible\n",
       "6                  I am tired of this stuff\n",
       "13        I am sick and tired of this place\n",
       "14                     What a great holiday\n",
       "8                      He is my sworn enemy\n",
       "0                      I love this sandwich\n",
       "1                  This is an amazing place\n",
       "7                    I can't deal with this\n",
       "2        I feel very good about these beers\n",
       "5             I do not like this restaurant\n",
       "15           That is a bad locality to stay\n",
       "Name: Message, dtype: object"
      ]
     },
     "execution_count": 11,
     "metadata": {},
     "output_type": "execute_result"
    }
   ],
   "source": [
    "Xtrain"
   ]
  },
  {
   "cell_type": "code",
   "execution_count": null,
   "metadata": {},
   "outputs": [],
   "source": []
  }
 ],
 "metadata": {
  "kernelspec": {
   "display_name": "Python 3",
   "language": "python",
   "name": "python3"
  },
  "language_info": {
   "codemirror_mode": {
    "name": "ipython",
    "version": 3
   },
   "file_extension": ".py",
   "mimetype": "text/x-python",
   "name": "python",
   "nbconvert_exporter": "python",
   "pygments_lexer": "ipython3",
   "version": "3.6.5"
  }
 },
 "nbformat": 4,
 "nbformat_minor": 2
}
