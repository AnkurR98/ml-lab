{
 "cells": [
  {
   "cell_type": "code",
   "execution_count": 9,
   "metadata": {},
   "outputs": [
    {
     "name": "stdout",
     "output_type": "stream",
     "text": [
      "[[0.21512903248526272, 0.6026249272388063, 0.8049875115204005, 0.9912141311627551], [0.9712515496122542, 0.626279177548194, 0.3184779080807315, 0.6381260086355213], [0.9642516084482868, 0.972004861487792, 0.04987988693079515, 0.8650211092066947]]\n",
      "{'hidden': 0.162581781507663, 'output': 0.9940105303068417}\n"
     ]
    }
   ],
   "source": [
    "import math\n",
    "import random as rd\n",
    "\n",
    "def sigmoid(x):\n",
    "    return 1 / (1 + math.exp(-x))\n",
    "\n",
    "lrate=0.1\n",
    "ninput = 2\n",
    "nhidden = 4\n",
    "noutput = 1\n",
    "nepoch = 10000\n",
    "weights = list()\n",
    "bias = {}\n",
    "\n",
    "for i in range(ninput + noutput):\n",
    "    weight = []\n",
    "    for j in range(nhidden):\n",
    "        weight.append(rd.random())\n",
    "    weights.append(weight)\n",
    "    \n",
    "print(weights)\n",
    "\n",
    "bias['hidden'] = rd.random()\n",
    "bias['output'] = rd.random()\n",
    "\n",
    "print(bias)"
   ]
  },
  {
   "cell_type": "code",
   "execution_count": 10,
   "metadata": {},
   "outputs": [],
   "source": [
    "inputs = [[1, 9], [2, 8], [3, 7], [4, 6]]\n",
    "outputs = [0.92, 0.89, 0.84, 0.80]\n",
    "length = len(inputs)"
   ]
  },
  {
   "cell_type": "markdown",
   "metadata": {},
   "source": [
    "<h1><u>Forward Pass</u></h1>"
   ]
  },
  {
   "cell_type": "code",
   "execution_count": 15,
   "metadata": {},
   "outputs": [
    {
     "name": "stdout",
     "output_type": "stream",
     "text": [
      "91.9810709388421\n",
      "89.02753493687241\n",
      "83.977462019325\n",
      "80.01055704030567\n"
     ]
    }
   ],
   "source": [
    "#Forward pass\n",
    "for i in range(100000):\n",
    "    outh = list()\n",
    "    outo = list()\n",
    "    for k in range(length):\n",
    "        outhtemp = list()\n",
    "        for i in range(nhidden):\n",
    "            neth = 0\n",
    "            for j in inputs[k]:\n",
    "                neth += j * weights[inputs[k].index(j)][i]\n",
    "            neth += bias['hidden']\n",
    "            outhtemp.append(sigmoid(neth))\n",
    "        outh.append(outhtemp)\n",
    "        netotemp = 0\n",
    "        for outhx in range(len(outhtemp)):\n",
    "            netotemp += outhtemp[outhx] * weights[-1][outhx]\n",
    "        netotemp += bias['output']\n",
    "        outo.append(sigmoid(netotemp))\n",
    "      \n",
    "    #Back propagation\n",
    "    flag = False\n",
    "    for output in outo:\n",
    "        if output == outputs[outo.index(output)]:\n",
    "            flag = True\n",
    "    if flag==True:\n",
    "        break\n",
    "    for x in range(len(inputs)):\n",
    "        delw = 0\n",
    "        #Output layer\n",
    "        for i in range(nhidden):\n",
    "            delw = delk = (outputs[x] - outo[x]) * outo[x] * (1 - outo[x])\n",
    "            delw *= lrate\n",
    "            delw *= outh[x][i]   \n",
    "            weights[-1][i] += delw\n",
    "\n",
    "        delw = 0\n",
    "        #Hidden layer\n",
    "        for j in range(len(inputs[x])):\n",
    "            for i in range(nhidden):\n",
    "                delw = outh[x][i] * (1 - outh[x][i]) * weights[-1][i] * delk\n",
    "                delw *= lrate\n",
    "                delw *= inputs[x][j]\n",
    "                weights[j][i] += delw\n",
    "\n",
    "for value in outo:\n",
    "    print(value*100)"
   ]
  },
  {
   "cell_type": "markdown",
   "metadata": {},
   "source": [
    "<h1><u>Back Propagation</u></h1>"
   ]
  },
  {
   "cell_type": "code",
   "execution_count": 4,
   "metadata": {},
   "outputs": [
    {
     "ename": "SyntaxError",
     "evalue": "'break' outside loop (<ipython-input-4-6c4fe5489dec>, line 6)",
     "output_type": "error",
     "traceback": [
      "\u001b[1;36m  File \u001b[1;32m\"<ipython-input-4-6c4fe5489dec>\"\u001b[1;36m, line \u001b[1;32m6\u001b[0m\n\u001b[1;33m    break\u001b[0m\n\u001b[1;37m    ^\u001b[0m\n\u001b[1;31mSyntaxError\u001b[0m\u001b[1;31m:\u001b[0m 'break' outside loop\n"
     ]
    }
   ],
   "source": [
    "    flag = False\n",
    "    for output in outo:\n",
    "        if output == outputs[outo.index(output)]:\n",
    "            flag = True\n",
    "    if flag==True:\n",
    "        break\n",
    "    for x in range(len(inputs)):\n",
    "        delw = 0\n",
    "        #Output layer\n",
    "        for i in range(nhidden):\n",
    "            delw = delk = (outputs[x] - outo[x]) * outo[x] * (1 - outo[x])\n",
    "            delw *= lrate\n",
    "            delw *= outh[x][i]   \n",
    "            weights[-1][i] += delw\n",
    "\n",
    "        delw = 0\n",
    "        #Hidden layer\n",
    "        for j in range(len(inputs[x])):\n",
    "            for i in range(nhidden):\n",
    "                delw = outh[x][i] * (1 - outh[x][i]) * weights[-1][i] * delk\n",
    "                delw *= lrate\n",
    "                delw *= inputs[x][j]\n",
    "                weights[j][i] += delw\n",
    "\n",
    "    print(weights)"
   ]
  },
  {
   "cell_type": "code",
   "execution_count": null,
   "metadata": {},
   "outputs": [],
   "source": []
  }
 ],
 "metadata": {
  "kernelspec": {
   "display_name": "Python 3",
   "language": "python",
   "name": "python3"
  },
  "language_info": {
   "codemirror_mode": {
    "name": "ipython",
    "version": 3
   },
   "file_extension": ".py",
   "mimetype": "text/x-python",
   "name": "python",
   "nbconvert_exporter": "python",
   "pygments_lexer": "ipython3",
   "version": "3.6.5"
  }
 },
 "nbformat": 4,
 "nbformat_minor": 2
}
